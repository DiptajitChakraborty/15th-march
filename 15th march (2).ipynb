{
 "cells": [
  {
   "cell_type": "markdown",
   "id": "21b36170-ceea-4095-8429-c8a2cbfb67b8",
   "metadata": {},
   "source": [
    "Q1. Explain the following with an example\n",
    "1.Artificial Intelligence\n",
    "2.Machine learning\n",
    "3.Deep LEarning"
   ]
  },
  {
   "cell_type": "markdown",
   "id": "f6451923-19ba-46df-90de-57c7742b79e6",
   "metadata": {},
   "source": [
    "Ans: \n",
    "Artificial Intelligence is a smart application that can perform its own task without any human intervention.\n",
    "Eg: Self driving car\n",
    "\n",
    "Machine learning provides stats tools to analyse,visualise,build predictive models, and forecasting .\n",
    "Eg:Amazon recommendation system\n",
    " \n",
    "Deep LEarning mimic the human brains. Eg: Object detection. "
   ]
  },
  {
   "cell_type": "markdown",
   "id": "275e919c-f965-4e8a-9390-de8896524a8c",
   "metadata": {},
   "source": [
    "Q2.  What is supervised learning? List some examples of supervised learning."
   ]
  },
  {
   "cell_type": "markdown",
   "id": "03448964-4558-4c0c-ad72-4230eea6decd",
   "metadata": {},
   "source": [
    "Ans:Basically supervised learning is when we teach or train the machine using data that is well-labelled. Which means some data is already tagged with the correct answer. here the output is dependent.\n",
    "\n",
    "Eg: Voice recognition, Credit scoring,Email filtering etc."
   ]
  },
  {
   "cell_type": "markdown",
   "id": "35c625b4-bf32-4880-89f3-898340ad77da",
   "metadata": {},
   "source": [
    "Q3. What is unsupervised learning? List some examples of unsupervised learning."
   ]
  },
  {
   "cell_type": "markdown",
   "id": "68806700-73c3-4f20-aae4-db9def48f461",
   "metadata": {},
   "source": [
    "Ans:Unsupervised learning uses machine learning algorithms to analyze and cluster unlabeled datasets. These algorithms discover hidden patterns or data groupings without the need for human intervention.Here the output is not known. \n",
    "\n",
    "Eg:data exploration, Customer segmentation, recommendation system."
   ]
  },
  {
   "cell_type": "markdown",
   "id": "3baa24a3-a711-44d6-94a2-d95e3eda33dd",
   "metadata": {},
   "source": [
    "Q4. What is the difference between AI, ML, DL, and DS?"
   ]
  },
  {
   "cell_type": "markdown",
   "id": "ca7a11b3-c56b-45a4-8f75-47f834b3a8f5",
   "metadata": {},
   "source": [
    "Ans: AI is basically a superset where a smart application that can perform its own task without any human intervention. \n",
    "ML is a subset of AI, provides stats tools to analyse,visualise,build predictive models, and forecasting . DL is a subset of ML , DL generally mimic the human brains. And DS is combination of all these above .\n",
    "i.e. It includes AI, ML, DL and some mathematical concepts and so on.\n",
    "\n",
    "These are the basic difference between AI, Dl,ML and DS."
   ]
  },
  {
   "cell_type": "markdown",
   "id": "15b99fdf-8508-4e94-b8a5-55179251a075",
   "metadata": {},
   "source": [
    "Q5. What are the main differences between supervised, unsupervised, and semi-supervised learning?"
   ]
  },
  {
   "cell_type": "markdown",
   "id": "20de1e1b-d646-425a-b922-42ce5dac01d5",
   "metadata": {},
   "source": [
    "ANS: In Supervised data, we know the output here we teach or train the machine using data that is well-labelled. Which means some data is already tagged with the correct answer.\n",
    " In the case of unsupervised learning , here we uses machine learning algorithms to analyze and cluster unlabeled datasets. .\n",
    " And Semi-supervised is mixture of supervised and unsupervised, i.e. it will take dataset from supervised dataset and thent will cluster the data ."
   ]
  },
  {
   "cell_type": "markdown",
   "id": "0bafea65-ca7f-4f52-9373-0094dc1045ee",
   "metadata": {},
   "source": [
    "Q6. What is train, test and validation split? Explain the importance of each term."
   ]
  },
  {
   "cell_type": "markdown",
   "id": "23c0b137-2a1a-4dc4-97c5-46e1135e8676",
   "metadata": {},
   "source": [
    "The training set is used for training the model.\n",
    "velidation split will hyper tune the model of train dataset.\n",
    "test split will test the model.\n",
    "\n",
    "These are important to ensure its accuracy. When a machine learning model is trained, a huge amount of training data is used and the main aim of checking the model validation provides an opportunity for machine learning engineers to improve the data quality and quantity."
   ]
  },
  {
   "cell_type": "markdown",
   "id": "b384bb70-b724-4ef9-8a8e-cdf06dc52e07",
   "metadata": {},
   "source": [
    "Q7. How can unsupervised learning be used in anomaly detection?"
   ]
  },
  {
   "cell_type": "markdown",
   "id": "5c59f86c-7b8d-4811-b593-58002f18c39f",
   "metadata": {},
   "source": [
    "Ans: This type of anomaly detection is the most common type, and the most well-known representative of unsupervised algorithms are neural networks.\n",
    "\n",
    "Artificial neural networks allow to decrease the amount of manual work needed to pre-process examples: no manual labeling is needed. Neural networks can even be applied to unstructured data. NNs can detect anomalies in unlabeled data and use what they have learned when working with new data.\n",
    "\n",
    "The advantage of this method is that it allows you to decrease the manual work in anomaly detection. Moreover, quite often it’s impossible to predict all the anomalies that can occur in the dataset. Think of self-driving cars, for example. They can face a situation on the road that has never happened before. Putting all road situations into a finite number of classes would be impossible. That is why neural networks are priceless when working with real-life data in real-time.\n",
    "\n",
    "However, ANNs almost rocket science level of complexity. So before you try out those, you might want to experiment with more conventional algorithms like DBSCAN, especially if your project is not that big.\n",
    "\n",
    "Moreover, the architecture of neural networks is a black box. We often don’t know what kinds of events neural networks will label as anomalies, moreover, it can easily learn wrong rules that are not so easy to fix. That is why unsupervised anomaly detection techniques are often less trustworthy than supervised ones"
   ]
  },
  {
   "cell_type": "markdown",
   "id": "c4bb8ac2-0bc7-4265-a84b-5c2a273ad631",
   "metadata": {},
   "source": [
    "Q8. List down some commonly used supervised learning algorithms and unsupervised learning\n",
    "algorithms."
   ]
  },
  {
   "cell_type": "markdown",
   "id": "a082b255-845e-4c68-b31a-e76de6bf1e9f",
   "metadata": {},
   "source": [
    "Ans: Commonly used supervised algortithms\n",
    "1.Linear regression, 2. Logistic Regression, 3. Decision tree, 4.SVM, 5. NAive bayes algorithm , 6.KNN , 7.K-means, 8. Random forest algorithm and so on.\n",
    "\n",
    "Commonly used supervised algortithms\n",
    "1.Clustering, 2 .Anomaly detection, 3. Approaches for learning latent variable models"
   ]
  },
  {
   "cell_type": "code",
   "execution_count": null,
   "id": "526abb24-d73f-461a-99e1-c081af31464d",
   "metadata": {},
   "outputs": [],
   "source": []
  },
  {
   "cell_type": "code",
   "execution_count": null,
   "id": "d9f34db1-3468-4fa6-a0bb-8cb8ff3775c3",
   "metadata": {},
   "outputs": [],
   "source": []
  },
  {
   "cell_type": "code",
   "execution_count": null,
   "id": "d31107ea-56ae-46e0-8039-f4de438475c3",
   "metadata": {},
   "outputs": [],
   "source": []
  },
  {
   "cell_type": "code",
   "execution_count": null,
   "id": "3c98b833-066a-4503-a76f-3f8699438991",
   "metadata": {},
   "outputs": [],
   "source": []
  }
 ],
 "metadata": {
  "kernelspec": {
   "display_name": "Python 3 (ipykernel)",
   "language": "python",
   "name": "python3"
  },
  "language_info": {
   "codemirror_mode": {
    "name": "ipython",
    "version": 3
   },
   "file_extension": ".py",
   "mimetype": "text/x-python",
   "name": "python",
   "nbconvert_exporter": "python",
   "pygments_lexer": "ipython3",
   "version": "3.10.8"
  }
 },
 "nbformat": 4,
 "nbformat_minor": 5
}
